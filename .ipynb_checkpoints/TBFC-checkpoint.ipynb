{
 "cells": [
  {
   "cell_type": "code",
   "execution_count": 547,
   "metadata": {},
   "outputs": [],
   "source": [
    "import pandas as pd\n",
    "import numpy as np\n",
    "from keras.models import Sequential\n",
    "from keras.layers import Dense, Dropout\n",
    "from keras.optimizers import RMSprop\n",
    "import keras\n",
    "import matplotlib.pyplot as plt"
   ]
  },
  {
   "cell_type": "code",
   "execution_count": 548,
   "metadata": {},
   "outputs": [],
   "source": [
    "train = pd.read_csv('train.csv')\n",
    "train = train.sample(frac = 1)"
   ]
  },
  {
   "cell_type": "code",
   "execution_count": 549,
   "metadata": {},
   "outputs": [],
   "source": [
    "test = pd.read_csv('test.csv')"
   ]
  },
  {
   "cell_type": "code",
   "execution_count": 550,
   "metadata": {},
   "outputs": [],
   "source": [
    "dict = {'A':65,'C':67,'G':71,'T':84}"
   ]
  },
  {
   "cell_type": "code",
   "execution_count": 551,
   "metadata": {},
   "outputs": [],
   "source": [
    "def encode(data):\n",
    "    Dlist = list(data)\n",
    "    output = []\n",
    "    for i in range (len(Dlist)):\n",
    "        output.append(dict[Dlist[i]]/84)\n",
    "    return np.array(output)"
   ]
  },
  {
   "cell_type": "code",
   "execution_count": 552,
   "metadata": {},
   "outputs": [],
   "source": [
    "train_seq = []\n",
    "for i in range (len(train)):\n",
    "    train_seq.append(encode(train.sequence[i]))\n",
    "train_seq = np.array(train_seq)\n",
    "label = np.array(train.label)"
   ]
  },
  {
   "cell_type": "code",
   "execution_count": 553,
   "metadata": {},
   "outputs": [],
   "source": [
    "val_idx = int(0.7 * len(train_seq))\n",
    "x_train, x_val = train_seq[:val_idx], train_seq[val_idx:]\n",
    "y_train, y_val = np.array(train.label)[:val_idx], np.array(train.label)[val_idx:]\n"
   ]
  },
  {
   "cell_type": "code",
   "execution_count": 554,
   "metadata": {},
   "outputs": [
    {
     "data": {
      "text/plain": [
       "array([0, 1, 1, ..., 1, 1, 0])"
      ]
     },
     "execution_count": 554,
     "metadata": {},
     "output_type": "execute_result"
    }
   ],
   "source": [
    "label"
   ]
  },
  {
   "cell_type": "code",
   "execution_count": 555,
   "metadata": {},
   "outputs": [],
   "source": [
    "num_classes = 2\n",
    "y_train = keras.utils.to_categorical(y_train, num_classes)\n",
    "y_val = keras.utils.to_categorical(y_val, num_classes)"
   ]
  },
  {
   "cell_type": "code",
   "execution_count": 556,
   "metadata": {},
   "outputs": [],
   "source": [
    "model_1 = Sequential()\n",
    "model_1.add(Dense(10, activation='relu', input_shape=(14,)))\n",
    "model_1.add(Dropout(0.05))\n",
    "#model_1.add(Dense(10, activation='relu'))\n",
    "model_1.add(Dense(8, activation='relu'))\n",
    "#model_1.add(Dense(8, activation='relu'))\n",
    "#model_1.add(Dense(14, activation='relu'))\n",
    "#model_1.add(Dense(14, activation='relu'))\n",
    "#model_1.add(Dropout(0.4))\n",
    "model_1.add(Dense(6, activation='relu'))\n",
    "#model_1.add(Dense(6, activation='relu'))\n",
    "model_1.add(Dense(4, activation='relu'))\n",
    "#model_1.add(Dense(2, activation='relu'))\n",
    "#model_1.add(Dense(7, activation='relu'))\n",
    "#model_1.add(Dense(7, activation='relu'))\n",
    "#model_1.add(Dropout(0.2))\n",
    "model_1.add(Dense(2, activation='softmax'))"
   ]
  },
  {
   "cell_type": "code",
   "execution_count": 557,
   "metadata": {},
   "outputs": [
    {
     "name": "stdout",
     "output_type": "stream",
     "text": [
      "_________________________________________________________________\n",
      "Layer (type)                 Output Shape              Param #   \n",
      "=================================================================\n",
      "dense_280 (Dense)            (None, 10)                150       \n",
      "_________________________________________________________________\n",
      "dropout_31 (Dropout)         (None, 10)                0         \n",
      "_________________________________________________________________\n",
      "dense_281 (Dense)            (None, 8)                 88        \n",
      "_________________________________________________________________\n",
      "dense_282 (Dense)            (None, 6)                 54        \n",
      "_________________________________________________________________\n",
      "dense_283 (Dense)            (None, 4)                 28        \n",
      "_________________________________________________________________\n",
      "dense_284 (Dense)            (None, 2)                 10        \n",
      "=================================================================\n",
      "Total params: 330\n",
      "Trainable params: 330\n",
      "Non-trainable params: 0\n",
      "_________________________________________________________________\n"
     ]
    }
   ],
   "source": [
    "model_1.summary()"
   ]
  },
  {
   "cell_type": "code",
   "execution_count": 558,
   "metadata": {},
   "outputs": [],
   "source": [
    "learning_rate = .001\n",
    "model_1.compile(loss='categorical_crossentropy',\n",
    "              optimizer=keras.optimizers.Adam(lr=learning_rate, beta_1=0.9, beta_2=0.999, epsilon=None, decay=0.01, amsgrad=True),\n",
    "              metrics=['accuracy'])"
   ]
  },
  {
   "cell_type": "code",
   "execution_count": 559,
   "metadata": {},
   "outputs": [
    {
     "name": "stdout",
     "output_type": "stream",
     "text": [
      "Train on 1400 samples, validate on 600 samples\n",
      "Epoch 1/120\n",
      "1400/1400 [==============================] - 2s 2ms/step - loss: 0.6933 - acc: 0.5036 - val_loss: 0.6931 - val_acc: 0.4967\n",
      "Epoch 2/120\n",
      "1400/1400 [==============================] - 0s 109us/step - loss: 0.6932 - acc: 0.4993 - val_loss: 0.6932 - val_acc: 0.4867\n",
      "Epoch 3/120\n",
      "1400/1400 [==============================] - 0s 130us/step - loss: 0.6931 - acc: 0.5129 - val_loss: 0.6932 - val_acc: 0.5050\n",
      "Epoch 4/120\n",
      "1400/1400 [==============================] - 0s 117us/step - loss: 0.6932 - acc: 0.4964 - val_loss: 0.6932 - val_acc: 0.5083\n",
      "Epoch 5/120\n",
      "1400/1400 [==============================] - 0s 117us/step - loss: 0.6931 - acc: 0.5050 - val_loss: 0.6933 - val_acc: 0.4867\n",
      "Epoch 6/120\n",
      "1400/1400 [==============================] - 0s 129us/step - loss: 0.6931 - acc: 0.5043 - val_loss: 0.6933 - val_acc: 0.4867\n",
      "Epoch 7/120\n",
      "1400/1400 [==============================] - 0s 127us/step - loss: 0.6931 - acc: 0.5057 - val_loss: 0.6933 - val_acc: 0.4867\n",
      "Epoch 8/120\n",
      "1400/1400 [==============================] - 0s 131us/step - loss: 0.6931 - acc: 0.5079 - val_loss: 0.6933 - val_acc: 0.4867\n",
      "Epoch 9/120\n",
      "1400/1400 [==============================] - 0s 129us/step - loss: 0.6930 - acc: 0.5079 - val_loss: 0.6933 - val_acc: 0.4867\n",
      "Epoch 10/120\n",
      "1400/1400 [==============================] - 0s 126us/step - loss: 0.6931 - acc: 0.5036 - val_loss: 0.6933 - val_acc: 0.4867\n",
      "Epoch 11/120\n",
      "1400/1400 [==============================] - 0s 114us/step - loss: 0.6930 - acc: 0.5093 - val_loss: 0.6933 - val_acc: 0.4867\n",
      "Epoch 12/120\n",
      "1400/1400 [==============================] - 0s 133us/step - loss: 0.6931 - acc: 0.5043 - val_loss: 0.6933 - val_acc: 0.4867\n",
      "Epoch 13/120\n",
      "1400/1400 [==============================] - 0s 127us/step - loss: 0.6931 - acc: 0.5050 - val_loss: 0.6933 - val_acc: 0.4867\n",
      "Epoch 14/120\n",
      "1400/1400 [==============================] - 0s 126us/step - loss: 0.6931 - acc: 0.5057 - val_loss: 0.6933 - val_acc: 0.4867\n",
      "Epoch 15/120\n",
      "1400/1400 [==============================] - 0s 128us/step - loss: 0.6930 - acc: 0.5057 - val_loss: 0.6933 - val_acc: 0.4867\n",
      "Epoch 16/120\n",
      "1400/1400 [==============================] - 0s 117us/step - loss: 0.6931 - acc: 0.5057 - val_loss: 0.6933 - val_acc: 0.4867\n",
      "Epoch 17/120\n",
      "1400/1400 [==============================] - 0s 126us/step - loss: 0.6930 - acc: 0.5043 - val_loss: 0.6933 - val_acc: 0.4867\n",
      "Epoch 18/120\n",
      "1400/1400 [==============================] - 0s 124us/step - loss: 0.6931 - acc: 0.5079 - val_loss: 0.6933 - val_acc: 0.4867\n",
      "Epoch 19/120\n",
      "1400/1400 [==============================] - 0s 211us/step - loss: 0.6931 - acc: 0.5057 - val_loss: 0.6933 - val_acc: 0.4867\n",
      "Epoch 20/120\n",
      "1400/1400 [==============================] - 0s 298us/step - loss: 0.6931 - acc: 0.5050 - val_loss: 0.6934 - val_acc: 0.4867\n",
      "Epoch 21/120\n",
      "1400/1400 [==============================] - 0s 154us/step - loss: 0.6931 - acc: 0.5064 - val_loss: 0.6933 - val_acc: 0.4867\n",
      "Epoch 22/120\n",
      "1400/1400 [==============================] - 0s 143us/step - loss: 0.6931 - acc: 0.5057 - val_loss: 0.6933 - val_acc: 0.4867\n",
      "Epoch 23/120\n",
      "1400/1400 [==============================] - 0s 150us/step - loss: 0.6930 - acc: 0.5050 - val_loss: 0.6933 - val_acc: 0.4867\n",
      "Epoch 24/120\n",
      "1400/1400 [==============================] - 0s 141us/step - loss: 0.6930 - acc: 0.5064 - val_loss: 0.6933 - val_acc: 0.4867\n",
      "Epoch 25/120\n",
      "1400/1400 [==============================] - 0s 150us/step - loss: 0.6930 - acc: 0.5057 - val_loss: 0.6933 - val_acc: 0.4867\n",
      "Epoch 26/120\n",
      "1400/1400 [==============================] - 0s 137us/step - loss: 0.6930 - acc: 0.5043 - val_loss: 0.6933 - val_acc: 0.4867\n",
      "Epoch 27/120\n",
      "1400/1400 [==============================] - 0s 139us/step - loss: 0.6931 - acc: 0.5057 - val_loss: 0.6933 - val_acc: 0.4867\n",
      "Epoch 28/120\n",
      "1400/1400 [==============================] - 0s 166us/step - loss: 0.6930 - acc: 0.5064 - val_loss: 0.6933 - val_acc: 0.4867\n",
      "Epoch 29/120\n",
      "1400/1400 [==============================] - 0s 315us/step - loss: 0.6930 - acc: 0.5064 - val_loss: 0.6933 - val_acc: 0.4867\n",
      "Epoch 30/120\n",
      "1400/1400 [==============================] - 0s 163us/step - loss: 0.6930 - acc: 0.5050 - val_loss: 0.6933 - val_acc: 0.4867\n",
      "Epoch 31/120\n",
      "1400/1400 [==============================] - 0s 138us/step - loss: 0.6930 - acc: 0.5064 - val_loss: 0.6934 - val_acc: 0.4867\n",
      "Epoch 32/120\n",
      "1400/1400 [==============================] - 0s 135us/step - loss: 0.6930 - acc: 0.5064 - val_loss: 0.6933 - val_acc: 0.4867\n",
      "Epoch 33/120\n",
      "1400/1400 [==============================] - 0s 137us/step - loss: 0.6930 - acc: 0.5071 - val_loss: 0.6933 - val_acc: 0.4867\n",
      "Epoch 34/120\n",
      "1400/1400 [==============================] - 0s 137us/step - loss: 0.6931 - acc: 0.5043 - val_loss: 0.6933 - val_acc: 0.4867\n",
      "Epoch 35/120\n",
      "1400/1400 [==============================] - 0s 125us/step - loss: 0.6930 - acc: 0.5064 - val_loss: 0.6934 - val_acc: 0.4867\n",
      "Epoch 36/120\n",
      "1400/1400 [==============================] - 0s 144us/step - loss: 0.6930 - acc: 0.5064 - val_loss: 0.6934 - val_acc: 0.4867\n",
      "Epoch 37/120\n",
      "1400/1400 [==============================] - 0s 114us/step - loss: 0.6930 - acc: 0.5064 - val_loss: 0.6933 - val_acc: 0.4867\n",
      "Epoch 38/120\n",
      "1400/1400 [==============================] - 0s 101us/step - loss: 0.6930 - acc: 0.5057 - val_loss: 0.6934 - val_acc: 0.4867\n",
      "Epoch 39/120\n",
      "1400/1400 [==============================] - 0s 88us/step - loss: 0.6930 - acc: 0.5064 - val_loss: 0.6934 - val_acc: 0.4867\n",
      "Epoch 40/120\n",
      "1400/1400 [==============================] - 0s 90us/step - loss: 0.6931 - acc: 0.5057 - val_loss: 0.6934 - val_acc: 0.4867\n",
      "Epoch 41/120\n",
      "1400/1400 [==============================] - 0s 88us/step - loss: 0.6930 - acc: 0.5057 - val_loss: 0.6934 - val_acc: 0.4867\n",
      "Epoch 42/120\n",
      "1400/1400 [==============================] - 0s 86us/step - loss: 0.6931 - acc: 0.5057 - val_loss: 0.6934 - val_acc: 0.4867\n",
      "Epoch 43/120\n",
      "1400/1400 [==============================] - 0s 88us/step - loss: 0.6930 - acc: 0.5064 - val_loss: 0.6933 - val_acc: 0.4867\n",
      "Epoch 44/120\n",
      "1400/1400 [==============================] - 0s 90us/step - loss: 0.6931 - acc: 0.5043 - val_loss: 0.6934 - val_acc: 0.4867\n",
      "Epoch 45/120\n",
      "1400/1400 [==============================] - 0s 167us/step - loss: 0.6930 - acc: 0.5064 - val_loss: 0.6934 - val_acc: 0.4867\n",
      "Epoch 46/120\n",
      "1400/1400 [==============================] - 0s 138us/step - loss: 0.6930 - acc: 0.5057 - val_loss: 0.6934 - val_acc: 0.4867\n",
      "Epoch 47/120\n",
      "1400/1400 [==============================] - 0s 96us/step - loss: 0.6931 - acc: 0.5050 - val_loss: 0.6934 - val_acc: 0.4867\n",
      "Epoch 48/120\n",
      "1400/1400 [==============================] - 0s 105us/step - loss: 0.6930 - acc: 0.5036 - val_loss: 0.6934 - val_acc: 0.4867\n",
      "Epoch 49/120\n",
      "1400/1400 [==============================] - 0s 105us/step - loss: 0.6930 - acc: 0.5064 - val_loss: 0.6934 - val_acc: 0.4867\n",
      "Epoch 50/120\n",
      "1400/1400 [==============================] - 0s 109us/step - loss: 0.6930 - acc: 0.5064 - val_loss: 0.6934 - val_acc: 0.4867\n",
      "Epoch 51/120\n",
      "1400/1400 [==============================] - 0s 161us/step - loss: 0.6930 - acc: 0.5064 - val_loss: 0.6934 - val_acc: 0.4867\n",
      "Epoch 52/120\n",
      "1400/1400 [==============================] - 0s 118us/step - loss: 0.6931 - acc: 0.5057 - val_loss: 0.6934 - val_acc: 0.4867\n",
      "Epoch 53/120\n",
      "1400/1400 [==============================] - 0s 104us/step - loss: 0.6930 - acc: 0.5057 - val_loss: 0.6934 - val_acc: 0.4867\n",
      "Epoch 54/120\n",
      "1400/1400 [==============================] - 0s 99us/step - loss: 0.6931 - acc: 0.5064 - val_loss: 0.6934 - val_acc: 0.4867\n",
      "Epoch 55/120\n",
      "1400/1400 [==============================] - 0s 105us/step - loss: 0.6930 - acc: 0.5064 - val_loss: 0.6934 - val_acc: 0.4867\n",
      "Epoch 56/120\n",
      "1400/1400 [==============================] - 0s 112us/step - loss: 0.6930 - acc: 0.5064 - val_loss: 0.6934 - val_acc: 0.4867\n",
      "Epoch 57/120\n",
      "1400/1400 [==============================] - 0s 111us/step - loss: 0.6930 - acc: 0.5057 - val_loss: 0.6934 - val_acc: 0.4867\n",
      "Epoch 58/120\n",
      "1400/1400 [==============================] - 0s 105us/step - loss: 0.6930 - acc: 0.5057 - val_loss: 0.6934 - val_acc: 0.4867\n",
      "Epoch 59/120\n",
      "1400/1400 [==============================] - 0s 105us/step - loss: 0.6930 - acc: 0.5057 - val_loss: 0.6934 - val_acc: 0.4867\n",
      "Epoch 60/120\n"
     ]
    },
    {
     "name": "stdout",
     "output_type": "stream",
     "text": [
      "1400/1400 [==============================] - 0s 101us/step - loss: 0.6930 - acc: 0.5057 - val_loss: 0.6934 - val_acc: 0.4867\n",
      "Epoch 61/120\n",
      "1400/1400 [==============================] - 0s 89us/step - loss: 0.6930 - acc: 0.5057 - val_loss: 0.6934 - val_acc: 0.4867\n",
      "Epoch 62/120\n",
      "1400/1400 [==============================] - 0s 105us/step - loss: 0.6931 - acc: 0.5057 - val_loss: 0.6934 - val_acc: 0.4867\n",
      "Epoch 63/120\n",
      "1400/1400 [==============================] - 0s 105us/step - loss: 0.6930 - acc: 0.5057 - val_loss: 0.6934 - val_acc: 0.4867\n",
      "Epoch 64/120\n",
      "1400/1400 [==============================] - 0s 95us/step - loss: 0.6930 - acc: 0.5050 - val_loss: 0.6934 - val_acc: 0.4867\n",
      "Epoch 65/120\n",
      "1400/1400 [==============================] - 0s 90us/step - loss: 0.6930 - acc: 0.5057 - val_loss: 0.6934 - val_acc: 0.4867\n",
      "Epoch 66/120\n",
      "1400/1400 [==============================] - 0s 85us/step - loss: 0.6930 - acc: 0.5071 - val_loss: 0.6934 - val_acc: 0.4867\n",
      "Epoch 67/120\n",
      "1400/1400 [==============================] - 0s 90us/step - loss: 0.6930 - acc: 0.5057 - val_loss: 0.6934 - val_acc: 0.4867\n",
      "Epoch 68/120\n",
      "1400/1400 [==============================] - 0s 87us/step - loss: 0.6930 - acc: 0.5064 - val_loss: 0.6934 - val_acc: 0.4867\n",
      "Epoch 69/120\n",
      "1400/1400 [==============================] - 0s 91us/step - loss: 0.6931 - acc: 0.5057 - val_loss: 0.6934 - val_acc: 0.4867\n",
      "Epoch 70/120\n",
      "1400/1400 [==============================] - 0s 88us/step - loss: 0.6931 - acc: 0.5057 - val_loss: 0.6934 - val_acc: 0.4867\n",
      "Epoch 71/120\n",
      "1400/1400 [==============================] - 0s 96us/step - loss: 0.6931 - acc: 0.5050 - val_loss: 0.6934 - val_acc: 0.4867\n",
      "Epoch 72/120\n",
      "1400/1400 [==============================] - 0s 90us/step - loss: 0.6930 - acc: 0.5050 - val_loss: 0.6934 - val_acc: 0.4867\n",
      "Epoch 73/120\n",
      "1400/1400 [==============================] - 0s 86us/step - loss: 0.6930 - acc: 0.5057 - val_loss: 0.6934 - val_acc: 0.4867\n",
      "Epoch 74/120\n",
      "1400/1400 [==============================] - 0s 95us/step - loss: 0.6930 - acc: 0.5050 - val_loss: 0.6934 - val_acc: 0.4867\n",
      "Epoch 75/120\n",
      "1400/1400 [==============================] - 0s 89us/step - loss: 0.6930 - acc: 0.5050 - val_loss: 0.6934 - val_acc: 0.4867\n",
      "Epoch 76/120\n",
      "1400/1400 [==============================] - 0s 87us/step - loss: 0.6930 - acc: 0.5050 - val_loss: 0.6934 - val_acc: 0.4867\n",
      "Epoch 77/120\n",
      "1400/1400 [==============================] - 0s 95us/step - loss: 0.6930 - acc: 0.5064 - val_loss: 0.6934 - val_acc: 0.4867\n",
      "Epoch 78/120\n",
      "1400/1400 [==============================] - 0s 95us/step - loss: 0.6930 - acc: 0.5057 - val_loss: 0.6934 - val_acc: 0.4867\n",
      "Epoch 79/120\n",
      "1400/1400 [==============================] - 0s 96us/step - loss: 0.6930 - acc: 0.5050 - val_loss: 0.6934 - val_acc: 0.4867\n",
      "Epoch 80/120\n",
      "1400/1400 [==============================] - 0s 97us/step - loss: 0.6930 - acc: 0.5043 - val_loss: 0.6934 - val_acc: 0.4867\n",
      "Epoch 81/120\n",
      "1400/1400 [==============================] - 0s 94us/step - loss: 0.6930 - acc: 0.5064 - val_loss: 0.6934 - val_acc: 0.4867\n",
      "Epoch 82/120\n",
      "1400/1400 [==============================] - 0s 94us/step - loss: 0.6930 - acc: 0.5057 - val_loss: 0.6934 - val_acc: 0.4867\n",
      "Epoch 83/120\n",
      "1400/1400 [==============================] - 0s 89us/step - loss: 0.6930 - acc: 0.5057 - val_loss: 0.6934 - val_acc: 0.4867\n",
      "Epoch 84/120\n",
      "1400/1400 [==============================] - 0s 86us/step - loss: 0.6930 - acc: 0.5050 - val_loss: 0.6934 - val_acc: 0.4867\n",
      "Epoch 85/120\n",
      "1400/1400 [==============================] - 0s 91us/step - loss: 0.6930 - acc: 0.5057 - val_loss: 0.6934 - val_acc: 0.4867\n",
      "Epoch 86/120\n",
      "1400/1400 [==============================] - 0s 89us/step - loss: 0.6931 - acc: 0.5050 - val_loss: 0.6934 - val_acc: 0.4867\n",
      "Epoch 87/120\n",
      "1400/1400 [==============================] - 0s 86us/step - loss: 0.6930 - acc: 0.5071 - val_loss: 0.6934 - val_acc: 0.4867\n",
      "Epoch 88/120\n",
      "1400/1400 [==============================] - 0s 89us/step - loss: 0.6930 - acc: 0.5071 - val_loss: 0.6934 - val_acc: 0.4867\n",
      "Epoch 89/120\n",
      "1400/1400 [==============================] - 0s 89us/step - loss: 0.6930 - acc: 0.5079 - val_loss: 0.6934 - val_acc: 0.4867\n",
      "Epoch 90/120\n",
      "1400/1400 [==============================] - 0s 88us/step - loss: 0.6930 - acc: 0.5064 - val_loss: 0.6934 - val_acc: 0.4867\n",
      "Epoch 91/120\n",
      "1400/1400 [==============================] - 0s 95us/step - loss: 0.6931 - acc: 0.5064 - val_loss: 0.6934 - val_acc: 0.4867\n",
      "Epoch 92/120\n",
      "1400/1400 [==============================] - 0s 93us/step - loss: 0.6930 - acc: 0.5064 - val_loss: 0.6934 - val_acc: 0.4867\n",
      "Epoch 93/120\n",
      "1400/1400 [==============================] - 0s 91us/step - loss: 0.6931 - acc: 0.5050 - val_loss: 0.6934 - val_acc: 0.4867\n",
      "Epoch 94/120\n",
      "1400/1400 [==============================] - 0s 90us/step - loss: 0.6930 - acc: 0.5050 - val_loss: 0.6934 - val_acc: 0.4867\n",
      "Epoch 95/120\n",
      "1400/1400 [==============================] - 0s 94us/step - loss: 0.6930 - acc: 0.5064 - val_loss: 0.6934 - val_acc: 0.4867\n",
      "Epoch 96/120\n",
      "1400/1400 [==============================] - 0s 95us/step - loss: 0.6931 - acc: 0.5050 - val_loss: 0.6934 - val_acc: 0.4867\n",
      "Epoch 97/120\n",
      "1400/1400 [==============================] - 0s 96us/step - loss: 0.6930 - acc: 0.5071 - val_loss: 0.6934 - val_acc: 0.4867\n",
      "Epoch 98/120\n",
      "1400/1400 [==============================] - 0s 261us/step - loss: 0.6931 - acc: 0.5057 - val_loss: 0.6934 - val_acc: 0.4867\n",
      "Epoch 99/120\n",
      "1400/1400 [==============================] - 0s 218us/step - loss: 0.6930 - acc: 0.5057 - val_loss: 0.6934 - val_acc: 0.4867\n",
      "Epoch 100/120\n",
      "1400/1400 [==============================] - 0s 117us/step - loss: 0.6930 - acc: 0.5064 - val_loss: 0.6934 - val_acc: 0.4867\n",
      "Epoch 101/120\n",
      "1400/1400 [==============================] - 0s 105us/step - loss: 0.6930 - acc: 0.5050 - val_loss: 0.6934 - val_acc: 0.4867\n",
      "Epoch 102/120\n",
      "1400/1400 [==============================] - 0s 108us/step - loss: 0.6930 - acc: 0.5057 - val_loss: 0.6934 - val_acc: 0.4867\n",
      "Epoch 103/120\n",
      "1400/1400 [==============================] - 0s 104us/step - loss: 0.6930 - acc: 0.5064 - val_loss: 0.6934 - val_acc: 0.4867\n",
      "Epoch 104/120\n",
      "1400/1400 [==============================] - 0s 108us/step - loss: 0.6930 - acc: 0.5064 - val_loss: 0.6934 - val_acc: 0.4867\n",
      "Epoch 105/120\n",
      "1400/1400 [==============================] - 0s 106us/step - loss: 0.6931 - acc: 0.5057 - val_loss: 0.6934 - val_acc: 0.4867\n",
      "Epoch 106/120\n",
      "1400/1400 [==============================] - 0s 103us/step - loss: 0.6930 - acc: 0.5050 - val_loss: 0.6934 - val_acc: 0.4867\n",
      "Epoch 107/120\n",
      "1400/1400 [==============================] - 0s 91us/step - loss: 0.6931 - acc: 0.5050 - val_loss: 0.6934 - val_acc: 0.4867\n",
      "Epoch 108/120\n",
      "1400/1400 [==============================] - 0s 88us/step - loss: 0.6930 - acc: 0.5057 - val_loss: 0.6934 - val_acc: 0.4867\n",
      "Epoch 109/120\n",
      "1400/1400 [==============================] - 0s 90us/step - loss: 0.6930 - acc: 0.5079 - val_loss: 0.6934 - val_acc: 0.4867\n",
      "Epoch 110/120\n",
      "1400/1400 [==============================] - 0s 91us/step - loss: 0.6930 - acc: 0.5050 - val_loss: 0.6934 - val_acc: 0.4867\n",
      "Epoch 111/120\n",
      "1400/1400 [==============================] - 0s 89us/step - loss: 0.6930 - acc: 0.5071 - val_loss: 0.6934 - val_acc: 0.4867\n",
      "Epoch 112/120\n",
      "1400/1400 [==============================] - 0s 88us/step - loss: 0.6931 - acc: 0.5050 - val_loss: 0.6934 - val_acc: 0.4867\n",
      "Epoch 113/120\n",
      "1400/1400 [==============================] - 0s 117us/step - loss: 0.6930 - acc: 0.5050 - val_loss: 0.6934 - val_acc: 0.4867\n",
      "Epoch 114/120\n",
      "1400/1400 [==============================] - 0s 106us/step - loss: 0.6930 - acc: 0.5057 - val_loss: 0.6934 - val_acc: 0.4867\n",
      "Epoch 115/120\n",
      "1400/1400 [==============================] - 0s 99us/step - loss: 0.6931 - acc: 0.5057 - val_loss: 0.6934 - val_acc: 0.4867\n",
      "Epoch 116/120\n",
      "1400/1400 [==============================] - 0s 91us/step - loss: 0.6930 - acc: 0.5050 - val_loss: 0.6934 - val_acc: 0.4867\n",
      "Epoch 117/120\n",
      "1400/1400 [==============================] - 0s 94us/step - loss: 0.6931 - acc: 0.5050 - val_loss: 0.6934 - val_acc: 0.4867\n",
      "Epoch 118/120\n",
      "1400/1400 [==============================] - 0s 100us/step - loss: 0.6930 - acc: 0.5057 - val_loss: 0.6934 - val_acc: 0.4867\n",
      "Epoch 119/120\n"
     ]
    },
    {
     "name": "stdout",
     "output_type": "stream",
     "text": [
      "1400/1400 [==============================] - 0s 100us/step - loss: 0.6930 - acc: 0.5057 - val_loss: 0.6934 - val_acc: 0.4867\n",
      "Epoch 120/120\n",
      "1400/1400 [==============================] - 0s 250us/step - loss: 0.6930 - acc: 0.5057 - val_loss: 0.6934 - val_acc: 0.4867\n"
     ]
    }
   ],
   "source": [
    "batch_size = 32  # mini-batch with 128 examples\n",
    "epochs = 120\n",
    "history = model_1.fit(\n",
    "    x_train, y_train,\n",
    "    batch_size=batch_size,\n",
    "    epochs=epochs,\n",
    "    verbose=1,\n",
    "    validation_data=(x_val, y_val))"
   ]
  },
  {
   "cell_type": "code",
   "execution_count": 560,
   "metadata": {},
   "outputs": [
    {
     "data": {
      "text/plain": [
       "0.4866666662693024"
      ]
     },
     "execution_count": 560,
     "metadata": {},
     "output_type": "execute_result"
    }
   ],
   "source": [
    "score = model_1.evaluate(x_val, y_val, verbose=0)[1]\n",
    "score"
   ]
  },
  {
   "cell_type": "code",
   "execution_count": 561,
   "metadata": {},
   "outputs": [
    {
     "data": {
      "image/png": "[encoded data removed]",
      "text/plain": [
       "<Figure size 864x432 with 2 Axes>"
      ]
     },
     "metadata": {},
     "output_type": "display_data"
    }
   ],
   "source": [
    "def plot_loss_accuracy(history):\n",
    "    fig = plt.figure(figsize=(12, 6))\n",
    "    ax = fig.add_subplot(1, 2, 1)\n",
    "    ax.plot(history.history[\"loss\"],'r-x', label=\"Train Loss\")\n",
    "    ax.plot(history.history[\"val_loss\"],'b-x', label=\"Validation Loss\")\n",
    "    ax.legend()\n",
    "    ax.set_title('cross_entropy loss')\n",
    "    ax.grid(True)\n",
    "\n",
    "\n",
    "    ax = fig.add_subplot(1, 2, 2)\n",
    "    ax.plot(history.history[\"acc\"],'r-x', label=\"Train Accuracy\")\n",
    "    ax.plot(history.history[\"val_acc\"],'b-x', label=\"Validation Accuracy\")\n",
    "    ax.legend()\n",
    "    ax.set_title('accuracy')\n",
    "    ax.grid(True)\n",
    "    fig.savefig('Graph.png')\n",
    "\n",
    "plot_loss_accuracy(history)"
   ]
  },
  {
   "cell_type": "code",
   "execution_count": 562,
   "metadata": {},
   "outputs": [],
   "source": [
    "test_seq = []\n",
    "for i in range(len(test)):\n",
    "    test_seq.append(encode(test.sequence[i]))\n",
    "test_seq = np.array(test_seq)\n",
    "result = model_1.predict(test_seq)\n",
    "\n",
    "op = []\n",
    "test_seq\n",
    "submission = pd.DataFrame()\n",
    "for i in range (len(result)):\n",
    "    op.append(result[i].argmax())\n",
    "op\n",
    "submission['id'] = test['id']\n",
    "submission['prediction'] = op\n",
    "submission.to_csv('submission.csv', index=False)"
   ]
  },
  {
   "cell_type": "code",
   "execution_count": null,
   "metadata": {},
   "outputs": [],
   "source": []
  },
  {
   "cell_type": "code",
   "execution_count": null,
   "metadata": {},
   "outputs": [],
   "source": []
  },
  {
   "cell_type": "code",
   "execution_count": null,
   "metadata": {},
   "outputs": [],
   "source": []
  }
 ],
 "metadata": {
  "kernelspec": {
   "display_name": "Python 3",
   "language": "python",
   "name": "python3"
  },
  "language_info": {
   "codemirror_mode": {
    "name": "ipython",
    "version": 3
   },
   "file_extension": ".py",
   "mimetype": "text/x-python",
   "name": "python",
   "nbconvert_exporter": "python",
   "pygments_lexer": "ipython3",
   "version": "3.6.3"
  }
 },
 "nbformat": 4,
 "nbformat_minor": 2
}
